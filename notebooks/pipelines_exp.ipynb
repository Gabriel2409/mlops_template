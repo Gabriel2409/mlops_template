{
 "cells": [
  {
   "cell_type": "code",
   "execution_count": 1,
   "metadata": {},
   "outputs": [
    {
     "data": {
      "text/html": [
       "<pre style=\"white-space:pre;overflow-x:auto;line-height:normal;font-family:Menlo,'DejaVu Sans Mono',consolas,'Courier New',monospace\"><span style=\"color: #7fbfbf; text-decoration-color: #7fbfbf\">[08/02/23 10:45:51] </span><span style=\"color: #000080; text-decoration-color: #000080\">INFO    </span> Resolved project path as:                                              <a href=\"file:///home/gcournelle/workprojects/mlops_template/venv/lib/python3.10/site-packages/kedro/ipython/__init__.py\" target=\"_blank\"><span style=\"color: #7f7f7f; text-decoration-color: #7f7f7f\">__init__.py</span></a><span style=\"color: #7f7f7f; text-decoration-color: #7f7f7f\">:</span><a href=\"file:///home/gcournelle/workprojects/mlops_template/venv/lib/python3.10/site-packages/kedro/ipython/__init__.py#136\" target=\"_blank\"><span style=\"color: #7f7f7f; text-decoration-color: #7f7f7f\">136</span></a>\n",
       "<span style=\"color: #7fbfbf; text-decoration-color: #7fbfbf\">                    </span>         <span style=\"color: #800080; text-decoration-color: #800080\">/home/gcournelle/workprojects/</span><span style=\"color: #ff00ff; text-decoration-color: #ff00ff\">mlops_template.</span>                          <span style=\"color: #7f7f7f; text-decoration-color: #7f7f7f\">               </span>\n",
       "<span style=\"color: #7fbfbf; text-decoration-color: #7fbfbf\">                    </span>         To set a different path, run <span style=\"color: #008000; text-decoration-color: #008000\">'%reload_kedro &lt;project_root&gt;'</span>            <span style=\"color: #7f7f7f; text-decoration-color: #7f7f7f\">               </span>\n",
       "</pre>\n"
      ],
      "text/plain": [
       "\u001b[2;36m[08/02/23 10:45:51]\u001b[0m\u001b[2;36m \u001b[0m\u001b[34mINFO    \u001b[0m Resolved project path as:                                              \u001b]8;id=340839;file:///home/gcournelle/workprojects/mlops_template/venv/lib/python3.10/site-packages/kedro/ipython/__init__.py\u001b\\\u001b[2m__init__.py\u001b[0m\u001b]8;;\u001b\\\u001b[2m:\u001b[0m\u001b]8;id=392212;file:///home/gcournelle/workprojects/mlops_template/venv/lib/python3.10/site-packages/kedro/ipython/__init__.py#136\u001b\\\u001b[2m136\u001b[0m\u001b]8;;\u001b\\\n",
       "\u001b[2;36m                    \u001b[0m         \u001b[35m/home/gcournelle/workprojects/\u001b[0m\u001b[95mmlops_template.\u001b[0m                          \u001b[2m               \u001b[0m\n",
       "\u001b[2;36m                    \u001b[0m         To set a different path, run \u001b[32m'%reload_kedro \u001b[0m\u001b[32m<\u001b[0m\u001b[32mproject_root\u001b[0m\u001b[32m>\u001b[0m\u001b[32m'\u001b[0m            \u001b[2m               \u001b[0m\n"
      ]
     },
     "metadata": {},
     "output_type": "display_data"
    },
    {
     "data": {
      "text/html": [
       "<pre style=\"white-space:pre;overflow-x:auto;line-height:normal;font-family:Menlo,'DejaVu Sans Mono',consolas,'Courier New',monospace\"><span style=\"color: #7fbfbf; text-decoration-color: #7fbfbf\">[08/02/23 10:45:53] </span><span style=\"color: #000080; text-decoration-color: #000080\">INFO    </span> The <span style=\"color: #008000; text-decoration-color: #008000\">'tracking_uri'</span> key in mlflow.yml is relative            <a href=\"file:///home/gcournelle/workprojects/mlops_template/venv/lib/python3.10/site-packages/kedro_mlflow/config/kedro_mlflow_config.py\" target=\"_blank\"><span style=\"color: #7f7f7f; text-decoration-color: #7f7f7f\">kedro_mlflow_config.py</span></a><span style=\"color: #7f7f7f; text-decoration-color: #7f7f7f\">:</span><a href=\"file:///home/gcournelle/workprojects/mlops_template/venv/lib/python3.10/site-packages/kedro_mlflow/config/kedro_mlflow_config.py#260\" target=\"_blank\"><span style=\"color: #7f7f7f; text-decoration-color: #7f7f7f\">260</span></a>\n",
       "<span style=\"color: #7fbfbf; text-decoration-color: #7fbfbf\">                    </span>         <span style=\"font-weight: bold\">(</span><span style=\"color: #008000; text-decoration-color: #008000\">'server.mlflow_(tracking|registry)_uri = mlruns'</span><span style=\"font-weight: bold\">)</span>. It is   <span style=\"color: #7f7f7f; text-decoration-color: #7f7f7f\">                          </span>\n",
       "<span style=\"color: #7fbfbf; text-decoration-color: #7fbfbf\">                    </span>         converted to a valid uri:                                   <span style=\"color: #7f7f7f; text-decoration-color: #7f7f7f\">                          </span>\n",
       "<span style=\"color: #7fbfbf; text-decoration-color: #7fbfbf\">                    </span>         <span style=\"color: #008000; text-decoration-color: #008000\">'file:///home/gcournelle/workprojects/mlops_template/mlruns</span> <span style=\"color: #7f7f7f; text-decoration-color: #7f7f7f\">                          </span>\n",
       "<span style=\"color: #7fbfbf; text-decoration-color: #7fbfbf\">                    </span>         <span style=\"color: #008000; text-decoration-color: #008000\">'</span>                                                           <span style=\"color: #7f7f7f; text-decoration-color: #7f7f7f\">                          </span>\n",
       "</pre>\n"
      ],
      "text/plain": [
       "\u001b[2;36m[08/02/23 10:45:53]\u001b[0m\u001b[2;36m \u001b[0m\u001b[34mINFO    \u001b[0m The \u001b[32m'tracking_uri'\u001b[0m key in mlflow.yml is relative            \u001b]8;id=158556;file:///home/gcournelle/workprojects/mlops_template/venv/lib/python3.10/site-packages/kedro_mlflow/config/kedro_mlflow_config.py\u001b\\\u001b[2mkedro_mlflow_config.py\u001b[0m\u001b]8;;\u001b\\\u001b[2m:\u001b[0m\u001b]8;id=208519;file:///home/gcournelle/workprojects/mlops_template/venv/lib/python3.10/site-packages/kedro_mlflow/config/kedro_mlflow_config.py#260\u001b\\\u001b[2m260\u001b[0m\u001b]8;;\u001b\\\n",
       "\u001b[2;36m                    \u001b[0m         \u001b[1m(\u001b[0m\u001b[32m'server.mlflow_\u001b[0m\u001b[32m(\u001b[0m\u001b[32mtracking|registry\u001b[0m\u001b[32m)\u001b[0m\u001b[32m_uri = mlruns'\u001b[0m\u001b[1m)\u001b[0m. It is   \u001b[2m                          \u001b[0m\n",
       "\u001b[2;36m                    \u001b[0m         converted to a valid uri:                                   \u001b[2m                          \u001b[0m\n",
       "\u001b[2;36m                    \u001b[0m         \u001b[32m'file:///home/gcournelle/workprojects/mlops_template/mlruns\u001b[0m \u001b[2m                          \u001b[0m\n",
       "\u001b[2;36m                    \u001b[0m         \u001b[32m'\u001b[0m                                                           \u001b[2m                          \u001b[0m\n"
      ]
     },
     "metadata": {},
     "output_type": "display_data"
    },
    {
     "data": {
      "text/html": [
       "<pre style=\"white-space:pre;overflow-x:auto;line-height:normal;font-family:Menlo,'DejaVu Sans Mono',consolas,'Courier New',monospace\"><span style=\"color: #7fbfbf; text-decoration-color: #7fbfbf\">                    </span><span style=\"color: #000080; text-decoration-color: #000080\">INFO    </span> Kedro project mlops_template                                           <a href=\"file:///home/gcournelle/workprojects/mlops_template/venv/lib/python3.10/site-packages/kedro/ipython/__init__.py\" target=\"_blank\"><span style=\"color: #7f7f7f; text-decoration-color: #7f7f7f\">__init__.py</span></a><span style=\"color: #7f7f7f; text-decoration-color: #7f7f7f\">:</span><a href=\"file:///home/gcournelle/workprojects/mlops_template/venv/lib/python3.10/site-packages/kedro/ipython/__init__.py#105\" target=\"_blank\"><span style=\"color: #7f7f7f; text-decoration-color: #7f7f7f\">105</span></a>\n",
       "</pre>\n"
      ],
      "text/plain": [
       "\u001b[2;36m                   \u001b[0m\u001b[2;36m \u001b[0m\u001b[34mINFO    \u001b[0m Kedro project mlops_template                                           \u001b]8;id=217400;file:///home/gcournelle/workprojects/mlops_template/venv/lib/python3.10/site-packages/kedro/ipython/__init__.py\u001b\\\u001b[2m__init__.py\u001b[0m\u001b]8;;\u001b\\\u001b[2m:\u001b[0m\u001b]8;id=763236;file:///home/gcournelle/workprojects/mlops_template/venv/lib/python3.10/site-packages/kedro/ipython/__init__.py#105\u001b\\\u001b[2m105\u001b[0m\u001b]8;;\u001b\\\n"
      ]
     },
     "metadata": {},
     "output_type": "display_data"
    },
    {
     "data": {
      "text/html": [
       "<pre style=\"white-space:pre;overflow-x:auto;line-height:normal;font-family:Menlo,'DejaVu Sans Mono',consolas,'Courier New',monospace\"><span style=\"color: #7fbfbf; text-decoration-color: #7fbfbf\">                    </span><span style=\"color: #000080; text-decoration-color: #000080\">INFO    </span> Defined global variable <span style=\"color: #008000; text-decoration-color: #008000\">'context'</span>, <span style=\"color: #008000; text-decoration-color: #008000\">'session'</span>, <span style=\"color: #008000; text-decoration-color: #008000\">'catalog'</span> and            <a href=\"file:///home/gcournelle/workprojects/mlops_template/venv/lib/python3.10/site-packages/kedro/ipython/__init__.py\" target=\"_blank\"><span style=\"color: #7f7f7f; text-decoration-color: #7f7f7f\">__init__.py</span></a><span style=\"color: #7f7f7f; text-decoration-color: #7f7f7f\">:</span><a href=\"file:///home/gcournelle/workprojects/mlops_template/venv/lib/python3.10/site-packages/kedro/ipython/__init__.py#106\" target=\"_blank\"><span style=\"color: #7f7f7f; text-decoration-color: #7f7f7f\">106</span></a>\n",
       "<span style=\"color: #7fbfbf; text-decoration-color: #7fbfbf\">                    </span>         <span style=\"color: #008000; text-decoration-color: #008000\">'pipelines'</span>                                                            <span style=\"color: #7f7f7f; text-decoration-color: #7f7f7f\">               </span>\n",
       "</pre>\n"
      ],
      "text/plain": [
       "\u001b[2;36m                   \u001b[0m\u001b[2;36m \u001b[0m\u001b[34mINFO    \u001b[0m Defined global variable \u001b[32m'context'\u001b[0m, \u001b[32m'session'\u001b[0m, \u001b[32m'catalog'\u001b[0m and            \u001b]8;id=693393;file:///home/gcournelle/workprojects/mlops_template/venv/lib/python3.10/site-packages/kedro/ipython/__init__.py\u001b\\\u001b[2m__init__.py\u001b[0m\u001b]8;;\u001b\\\u001b[2m:\u001b[0m\u001b]8;id=185039;file:///home/gcournelle/workprojects/mlops_template/venv/lib/python3.10/site-packages/kedro/ipython/__init__.py#106\u001b\\\u001b[2m106\u001b[0m\u001b]8;;\u001b\\\n",
       "\u001b[2;36m                    \u001b[0m         \u001b[32m'pipelines'\u001b[0m                                                            \u001b[2m               \u001b[0m\n"
      ]
     },
     "metadata": {},
     "output_type": "display_data"
    },
    {
     "data": {
      "text/html": [
       "<pre style=\"white-space:pre;overflow-x:auto;line-height:normal;font-family:Menlo,'DejaVu Sans Mono',consolas,'Courier New',monospace\"><span style=\"color: #7fbfbf; text-decoration-color: #7fbfbf\">[08/02/23 10:45:54] </span><span style=\"color: #000080; text-decoration-color: #000080\">INFO    </span> Registered line magic <span style=\"color: #008000; text-decoration-color: #008000\">'run_viz'</span>                                        <a href=\"file:///home/gcournelle/workprojects/mlops_template/venv/lib/python3.10/site-packages/kedro/ipython/__init__.py\" target=\"_blank\"><span style=\"color: #7f7f7f; text-decoration-color: #7f7f7f\">__init__.py</span></a><span style=\"color: #7f7f7f; text-decoration-color: #7f7f7f\">:</span><a href=\"file:///home/gcournelle/workprojects/mlops_template/venv/lib/python3.10/site-packages/kedro/ipython/__init__.py#112\" target=\"_blank\"><span style=\"color: #7f7f7f; text-decoration-color: #7f7f7f\">112</span></a>\n",
       "</pre>\n"
      ],
      "text/plain": [
       "\u001b[2;36m[08/02/23 10:45:54]\u001b[0m\u001b[2;36m \u001b[0m\u001b[34mINFO    \u001b[0m Registered line magic \u001b[32m'run_viz'\u001b[0m                                        \u001b]8;id=695020;file:///home/gcournelle/workprojects/mlops_template/venv/lib/python3.10/site-packages/kedro/ipython/__init__.py\u001b\\\u001b[2m__init__.py\u001b[0m\u001b]8;;\u001b\\\u001b[2m:\u001b[0m\u001b]8;id=157325;file:///home/gcournelle/workprojects/mlops_template/venv/lib/python3.10/site-packages/kedro/ipython/__init__.py#112\u001b\\\u001b[2m112\u001b[0m\u001b]8;;\u001b\\\n"
      ]
     },
     "metadata": {},
     "output_type": "display_data"
    },
    {
     "data": {
      "text/html": [
       "<pre style=\"white-space:pre;overflow-x:auto;line-height:normal;font-family:Menlo,'DejaVu Sans Mono',consolas,'Courier New',monospace\"><span style=\"color: #7fbfbf; text-decoration-color: #7fbfbf\">                    </span><span style=\"color: #000080; text-decoration-color: #000080\">INFO    </span> Resolved project path as:                                              <a href=\"file:///home/gcournelle/workprojects/mlops_template/venv/lib/python3.10/site-packages/kedro/ipython/__init__.py\" target=\"_blank\"><span style=\"color: #7f7f7f; text-decoration-color: #7f7f7f\">__init__.py</span></a><span style=\"color: #7f7f7f; text-decoration-color: #7f7f7f\">:</span><a href=\"file:///home/gcournelle/workprojects/mlops_template/venv/lib/python3.10/site-packages/kedro/ipython/__init__.py#136\" target=\"_blank\"><span style=\"color: #7f7f7f; text-decoration-color: #7f7f7f\">136</span></a>\n",
       "<span style=\"color: #7fbfbf; text-decoration-color: #7fbfbf\">                    </span>         <span style=\"color: #800080; text-decoration-color: #800080\">/home/gcournelle/workprojects/</span><span style=\"color: #ff00ff; text-decoration-color: #ff00ff\">mlops_template.</span>                          <span style=\"color: #7f7f7f; text-decoration-color: #7f7f7f\">               </span>\n",
       "<span style=\"color: #7fbfbf; text-decoration-color: #7fbfbf\">                    </span>         To set a different path, run <span style=\"color: #008000; text-decoration-color: #008000\">'%reload_kedro &lt;project_root&gt;'</span>            <span style=\"color: #7f7f7f; text-decoration-color: #7f7f7f\">               </span>\n",
       "</pre>\n"
      ],
      "text/plain": [
       "\u001b[2;36m                   \u001b[0m\u001b[2;36m \u001b[0m\u001b[34mINFO    \u001b[0m Resolved project path as:                                              \u001b]8;id=320438;file:///home/gcournelle/workprojects/mlops_template/venv/lib/python3.10/site-packages/kedro/ipython/__init__.py\u001b\\\u001b[2m__init__.py\u001b[0m\u001b]8;;\u001b\\\u001b[2m:\u001b[0m\u001b]8;id=943558;file:///home/gcournelle/workprojects/mlops_template/venv/lib/python3.10/site-packages/kedro/ipython/__init__.py#136\u001b\\\u001b[2m136\u001b[0m\u001b]8;;\u001b\\\n",
       "\u001b[2;36m                    \u001b[0m         \u001b[35m/home/gcournelle/workprojects/\u001b[0m\u001b[95mmlops_template.\u001b[0m                          \u001b[2m               \u001b[0m\n",
       "\u001b[2;36m                    \u001b[0m         To set a different path, run \u001b[32m'%reload_kedro \u001b[0m\u001b[32m<\u001b[0m\u001b[32mproject_root\u001b[0m\u001b[32m>\u001b[0m\u001b[32m'\u001b[0m            \u001b[2m               \u001b[0m\n"
      ]
     },
     "metadata": {},
     "output_type": "display_data"
    },
    {
     "data": {
      "text/html": [
       "<pre style=\"white-space:pre;overflow-x:auto;line-height:normal;font-family:Menlo,'DejaVu Sans Mono',consolas,'Courier New',monospace\"><span style=\"color: #7fbfbf; text-decoration-color: #7fbfbf\">[08/02/23 10:45:55] </span><span style=\"color: #000080; text-decoration-color: #000080\">INFO    </span> The <span style=\"color: #008000; text-decoration-color: #008000\">'tracking_uri'</span> key in mlflow.yml is relative            <a href=\"file:///home/gcournelle/workprojects/mlops_template/venv/lib/python3.10/site-packages/kedro_mlflow/config/kedro_mlflow_config.py\" target=\"_blank\"><span style=\"color: #7f7f7f; text-decoration-color: #7f7f7f\">kedro_mlflow_config.py</span></a><span style=\"color: #7f7f7f; text-decoration-color: #7f7f7f\">:</span><a href=\"file:///home/gcournelle/workprojects/mlops_template/venv/lib/python3.10/site-packages/kedro_mlflow/config/kedro_mlflow_config.py#260\" target=\"_blank\"><span style=\"color: #7f7f7f; text-decoration-color: #7f7f7f\">260</span></a>\n",
       "<span style=\"color: #7fbfbf; text-decoration-color: #7fbfbf\">                    </span>         <span style=\"font-weight: bold\">(</span><span style=\"color: #008000; text-decoration-color: #008000\">'server.mlflow_(tracking|registry)_uri = mlruns'</span><span style=\"font-weight: bold\">)</span>. It is   <span style=\"color: #7f7f7f; text-decoration-color: #7f7f7f\">                          </span>\n",
       "<span style=\"color: #7fbfbf; text-decoration-color: #7fbfbf\">                    </span>         converted to a valid uri:                                   <span style=\"color: #7f7f7f; text-decoration-color: #7f7f7f\">                          </span>\n",
       "<span style=\"color: #7fbfbf; text-decoration-color: #7fbfbf\">                    </span>         <span style=\"color: #008000; text-decoration-color: #008000\">'file:///home/gcournelle/workprojects/mlops_template/mlruns</span> <span style=\"color: #7f7f7f; text-decoration-color: #7f7f7f\">                          </span>\n",
       "<span style=\"color: #7fbfbf; text-decoration-color: #7fbfbf\">                    </span>         <span style=\"color: #008000; text-decoration-color: #008000\">'</span>                                                           <span style=\"color: #7f7f7f; text-decoration-color: #7f7f7f\">                          </span>\n",
       "</pre>\n"
      ],
      "text/plain": [
       "\u001b[2;36m[08/02/23 10:45:55]\u001b[0m\u001b[2;36m \u001b[0m\u001b[34mINFO    \u001b[0m The \u001b[32m'tracking_uri'\u001b[0m key in mlflow.yml is relative            \u001b]8;id=448654;file:///home/gcournelle/workprojects/mlops_template/venv/lib/python3.10/site-packages/kedro_mlflow/config/kedro_mlflow_config.py\u001b\\\u001b[2mkedro_mlflow_config.py\u001b[0m\u001b]8;;\u001b\\\u001b[2m:\u001b[0m\u001b]8;id=564699;file:///home/gcournelle/workprojects/mlops_template/venv/lib/python3.10/site-packages/kedro_mlflow/config/kedro_mlflow_config.py#260\u001b\\\u001b[2m260\u001b[0m\u001b]8;;\u001b\\\n",
       "\u001b[2;36m                    \u001b[0m         \u001b[1m(\u001b[0m\u001b[32m'server.mlflow_\u001b[0m\u001b[32m(\u001b[0m\u001b[32mtracking|registry\u001b[0m\u001b[32m)\u001b[0m\u001b[32m_uri = mlruns'\u001b[0m\u001b[1m)\u001b[0m. It is   \u001b[2m                          \u001b[0m\n",
       "\u001b[2;36m                    \u001b[0m         converted to a valid uri:                                   \u001b[2m                          \u001b[0m\n",
       "\u001b[2;36m                    \u001b[0m         \u001b[32m'file:///home/gcournelle/workprojects/mlops_template/mlruns\u001b[0m \u001b[2m                          \u001b[0m\n",
       "\u001b[2;36m                    \u001b[0m         \u001b[32m'\u001b[0m                                                           \u001b[2m                          \u001b[0m\n"
      ]
     },
     "metadata": {},
     "output_type": "display_data"
    },
    {
     "data": {
      "text/html": [
       "<pre style=\"white-space:pre;overflow-x:auto;line-height:normal;font-family:Menlo,'DejaVu Sans Mono',consolas,'Courier New',monospace\"><span style=\"color: #7fbfbf; text-decoration-color: #7fbfbf\">                    </span><span style=\"color: #000080; text-decoration-color: #000080\">INFO    </span> Kedro project mlops_template                                           <a href=\"file:///home/gcournelle/workprojects/mlops_template/venv/lib/python3.10/site-packages/kedro/ipython/__init__.py\" target=\"_blank\"><span style=\"color: #7f7f7f; text-decoration-color: #7f7f7f\">__init__.py</span></a><span style=\"color: #7f7f7f; text-decoration-color: #7f7f7f\">:</span><a href=\"file:///home/gcournelle/workprojects/mlops_template/venv/lib/python3.10/site-packages/kedro/ipython/__init__.py#105\" target=\"_blank\"><span style=\"color: #7f7f7f; text-decoration-color: #7f7f7f\">105</span></a>\n",
       "</pre>\n"
      ],
      "text/plain": [
       "\u001b[2;36m                   \u001b[0m\u001b[2;36m \u001b[0m\u001b[34mINFO    \u001b[0m Kedro project mlops_template                                           \u001b]8;id=769004;file:///home/gcournelle/workprojects/mlops_template/venv/lib/python3.10/site-packages/kedro/ipython/__init__.py\u001b\\\u001b[2m__init__.py\u001b[0m\u001b]8;;\u001b\\\u001b[2m:\u001b[0m\u001b]8;id=17405;file:///home/gcournelle/workprojects/mlops_template/venv/lib/python3.10/site-packages/kedro/ipython/__init__.py#105\u001b\\\u001b[2m105\u001b[0m\u001b]8;;\u001b\\\n"
      ]
     },
     "metadata": {},
     "output_type": "display_data"
    },
    {
     "data": {
      "text/html": [
       "<pre style=\"white-space:pre;overflow-x:auto;line-height:normal;font-family:Menlo,'DejaVu Sans Mono',consolas,'Courier New',monospace\"><span style=\"color: #7fbfbf; text-decoration-color: #7fbfbf\">                    </span><span style=\"color: #000080; text-decoration-color: #000080\">INFO    </span> Defined global variable <span style=\"color: #008000; text-decoration-color: #008000\">'context'</span>, <span style=\"color: #008000; text-decoration-color: #008000\">'session'</span>, <span style=\"color: #008000; text-decoration-color: #008000\">'catalog'</span> and            <a href=\"file:///home/gcournelle/workprojects/mlops_template/venv/lib/python3.10/site-packages/kedro/ipython/__init__.py\" target=\"_blank\"><span style=\"color: #7f7f7f; text-decoration-color: #7f7f7f\">__init__.py</span></a><span style=\"color: #7f7f7f; text-decoration-color: #7f7f7f\">:</span><a href=\"file:///home/gcournelle/workprojects/mlops_template/venv/lib/python3.10/site-packages/kedro/ipython/__init__.py#106\" target=\"_blank\"><span style=\"color: #7f7f7f; text-decoration-color: #7f7f7f\">106</span></a>\n",
       "<span style=\"color: #7fbfbf; text-decoration-color: #7fbfbf\">                    </span>         <span style=\"color: #008000; text-decoration-color: #008000\">'pipelines'</span>                                                            <span style=\"color: #7f7f7f; text-decoration-color: #7f7f7f\">               </span>\n",
       "</pre>\n"
      ],
      "text/plain": [
       "\u001b[2;36m                   \u001b[0m\u001b[2;36m \u001b[0m\u001b[34mINFO    \u001b[0m Defined global variable \u001b[32m'context'\u001b[0m, \u001b[32m'session'\u001b[0m, \u001b[32m'catalog'\u001b[0m and            \u001b]8;id=55587;file:///home/gcournelle/workprojects/mlops_template/venv/lib/python3.10/site-packages/kedro/ipython/__init__.py\u001b\\\u001b[2m__init__.py\u001b[0m\u001b]8;;\u001b\\\u001b[2m:\u001b[0m\u001b]8;id=403122;file:///home/gcournelle/workprojects/mlops_template/venv/lib/python3.10/site-packages/kedro/ipython/__init__.py#106\u001b\\\u001b[2m106\u001b[0m\u001b]8;;\u001b\\\n",
       "\u001b[2;36m                    \u001b[0m         \u001b[32m'pipelines'\u001b[0m                                                            \u001b[2m               \u001b[0m\n"
      ]
     },
     "metadata": {},
     "output_type": "display_data"
    },
    {
     "data": {
      "text/html": [
       "<pre style=\"white-space:pre;overflow-x:auto;line-height:normal;font-family:Menlo,'DejaVu Sans Mono',consolas,'Courier New',monospace\"><span style=\"color: #7fbfbf; text-decoration-color: #7fbfbf\">                    </span><span style=\"color: #000080; text-decoration-color: #000080\">INFO    </span> Registered line magic <span style=\"color: #008000; text-decoration-color: #008000\">'run_viz'</span>                                        <a href=\"file:///home/gcournelle/workprojects/mlops_template/venv/lib/python3.10/site-packages/kedro/ipython/__init__.py\" target=\"_blank\"><span style=\"color: #7f7f7f; text-decoration-color: #7f7f7f\">__init__.py</span></a><span style=\"color: #7f7f7f; text-decoration-color: #7f7f7f\">:</span><a href=\"file:///home/gcournelle/workprojects/mlops_template/venv/lib/python3.10/site-packages/kedro/ipython/__init__.py#112\" target=\"_blank\"><span style=\"color: #7f7f7f; text-decoration-color: #7f7f7f\">112</span></a>\n",
       "</pre>\n"
      ],
      "text/plain": [
       "\u001b[2;36m                   \u001b[0m\u001b[2;36m \u001b[0m\u001b[34mINFO    \u001b[0m Registered line magic \u001b[32m'run_viz'\u001b[0m                                        \u001b]8;id=719833;file:///home/gcournelle/workprojects/mlops_template/venv/lib/python3.10/site-packages/kedro/ipython/__init__.py\u001b\\\u001b[2m__init__.py\u001b[0m\u001b]8;;\u001b\\\u001b[2m:\u001b[0m\u001b]8;id=230109;file:///home/gcournelle/workprojects/mlops_template/venv/lib/python3.10/site-packages/kedro/ipython/__init__.py#112\u001b\\\u001b[2m112\u001b[0m\u001b]8;;\u001b\\\n"
      ]
     },
     "metadata": {},
     "output_type": "display_data"
    }
   ],
   "source": [
    "%load_ext kedro.extras.extensions.ipython\n",
    "%reload_kedro"
   ]
  },
  {
   "cell_type": "code",
   "execution_count": 7,
   "metadata": {},
   "outputs": [
    {
     "data": {
      "text/html": [
       "<pre style=\"white-space:pre;overflow-x:auto;line-height:normal;font-family:Menlo,'DejaVu Sans Mono',consolas,'Courier New',monospace\"><span style=\"color: #7fbfbf; text-decoration-color: #7fbfbf\">[08/02/23 10:49:51] </span><span style=\"color: #000080; text-decoration-color: #000080\">INFO    </span> Loading data from <span style=\"color: #008000; text-decoration-color: #008000\">'projects_train_text'</span> <span style=\"font-weight: bold\">(</span>CSVDataSet<span style=\"font-weight: bold\">)</span><span style=\"color: #808000; text-decoration-color: #808000\">...</span>            <a href=\"file:///home/gcournelle/workprojects/mlops_template/venv/lib/python3.10/site-packages/kedro/io/data_catalog.py\" target=\"_blank\"><span style=\"color: #7f7f7f; text-decoration-color: #7f7f7f\">data_catalog.py</span></a><span style=\"color: #7f7f7f; text-decoration-color: #7f7f7f\">:</span><a href=\"file:///home/gcournelle/workprojects/mlops_template/venv/lib/python3.10/site-packages/kedro/io/data_catalog.py#345\" target=\"_blank\"><span style=\"color: #7f7f7f; text-decoration-color: #7f7f7f\">345</span></a>\n",
       "</pre>\n"
      ],
      "text/plain": [
       "\u001b[2;36m[08/02/23 10:49:51]\u001b[0m\u001b[2;36m \u001b[0m\u001b[34mINFO    \u001b[0m Loading data from \u001b[32m'projects_train_text'\u001b[0m \u001b[1m(\u001b[0mCSVDataSet\u001b[1m)\u001b[0m\u001b[33m...\u001b[0m            \u001b]8;id=722559;file:///home/gcournelle/workprojects/mlops_template/venv/lib/python3.10/site-packages/kedro/io/data_catalog.py\u001b\\\u001b[2mdata_catalog.py\u001b[0m\u001b]8;;\u001b\\\u001b[2m:\u001b[0m\u001b]8;id=750786;file:///home/gcournelle/workprojects/mlops_template/venv/lib/python3.10/site-packages/kedro/io/data_catalog.py#345\u001b\\\u001b[2m345\u001b[0m\u001b]8;;\u001b\\\n"
      ]
     },
     "metadata": {},
     "output_type": "display_data"
    }
   ],
   "source": [
    "from sklearn.feature_extraction.text import TfidfVectorizer\n",
    "from sklearn.linear_model import SGDClassifier\n",
    "from sklearn.pipeline import Pipeline\n",
    "import pandas as pd\n",
    "train_df = catalog.load(\"projects_train_text\")\n",
    "vectorizer = TfidfVectorizer(analyzer=\"char\", ngram_range=(2, 7))\n",
    "sgdclassifier = SGDClassifier(\n",
    "        loss=\"log_loss\",\n",
    "        penalty=\"l2\",\n",
    "        alpha=1e-4,\n",
    "        max_iter=100,\n",
    "        learning_rate=\"constant\",\n",
    "        eta0=1e-1,\n",
    "        power_t=0.1,\n",
    "        warm_start=True,\n",
    "    )\n",
    "steps = ((\"tfidf\", vectorizer), (\"sgdclassifier\", sgdclassifier))\n",
    "pipe = Pipeline(steps)\n",
    "X_train = train_df[\"text\"]\n",
    "y_train = train_df[\"tag\"]"
   ]
  },
  {
   "cell_type": "code",
   "execution_count": 9,
   "metadata": {},
   "outputs": [
    {
     "data": {
      "text/html": [
       "<style>#sk-container-id-2 {color: black;}#sk-container-id-2 pre{padding: 0;}#sk-container-id-2 div.sk-toggleable {background-color: white;}#sk-container-id-2 label.sk-toggleable__label {cursor: pointer;display: block;width: 100%;margin-bottom: 0;padding: 0.3em;box-sizing: border-box;text-align: center;}#sk-container-id-2 label.sk-toggleable__label-arrow:before {content: \"▸\";float: left;margin-right: 0.25em;color: #696969;}#sk-container-id-2 label.sk-toggleable__label-arrow:hover:before {color: black;}#sk-container-id-2 div.sk-estimator:hover label.sk-toggleable__label-arrow:before {color: black;}#sk-container-id-2 div.sk-toggleable__content {max-height: 0;max-width: 0;overflow: hidden;text-align: left;background-color: #f0f8ff;}#sk-container-id-2 div.sk-toggleable__content pre {margin: 0.2em;color: black;border-radius: 0.25em;background-color: #f0f8ff;}#sk-container-id-2 input.sk-toggleable__control:checked~div.sk-toggleable__content {max-height: 200px;max-width: 100%;overflow: auto;}#sk-container-id-2 input.sk-toggleable__control:checked~label.sk-toggleable__label-arrow:before {content: \"▾\";}#sk-container-id-2 div.sk-estimator input.sk-toggleable__control:checked~label.sk-toggleable__label {background-color: #d4ebff;}#sk-container-id-2 div.sk-label input.sk-toggleable__control:checked~label.sk-toggleable__label {background-color: #d4ebff;}#sk-container-id-2 input.sk-hidden--visually {border: 0;clip: rect(1px 1px 1px 1px);clip: rect(1px, 1px, 1px, 1px);height: 1px;margin: -1px;overflow: hidden;padding: 0;position: absolute;width: 1px;}#sk-container-id-2 div.sk-estimator {font-family: monospace;background-color: #f0f8ff;border: 1px dotted black;border-radius: 0.25em;box-sizing: border-box;margin-bottom: 0.5em;}#sk-container-id-2 div.sk-estimator:hover {background-color: #d4ebff;}#sk-container-id-2 div.sk-parallel-item::after {content: \"\";width: 100%;border-bottom: 1px solid gray;flex-grow: 1;}#sk-container-id-2 div.sk-label:hover label.sk-toggleable__label {background-color: #d4ebff;}#sk-container-id-2 div.sk-serial::before {content: \"\";position: absolute;border-left: 1px solid gray;box-sizing: border-box;top: 0;bottom: 0;left: 50%;z-index: 0;}#sk-container-id-2 div.sk-serial {display: flex;flex-direction: column;align-items: center;background-color: white;padding-right: 0.2em;padding-left: 0.2em;position: relative;}#sk-container-id-2 div.sk-item {position: relative;z-index: 1;}#sk-container-id-2 div.sk-parallel {display: flex;align-items: stretch;justify-content: center;background-color: white;position: relative;}#sk-container-id-2 div.sk-item::before, #sk-container-id-2 div.sk-parallel-item::before {content: \"\";position: absolute;border-left: 1px solid gray;box-sizing: border-box;top: 0;bottom: 0;left: 50%;z-index: -1;}#sk-container-id-2 div.sk-parallel-item {display: flex;flex-direction: column;z-index: 1;position: relative;background-color: white;}#sk-container-id-2 div.sk-parallel-item:first-child::after {align-self: flex-end;width: 50%;}#sk-container-id-2 div.sk-parallel-item:last-child::after {align-self: flex-start;width: 50%;}#sk-container-id-2 div.sk-parallel-item:only-child::after {width: 0;}#sk-container-id-2 div.sk-dashed-wrapped {border: 1px dashed gray;margin: 0 0.4em 0.5em 0.4em;box-sizing: border-box;padding-bottom: 0.4em;background-color: white;}#sk-container-id-2 div.sk-label label {font-family: monospace;font-weight: bold;display: inline-block;line-height: 1.2em;}#sk-container-id-2 div.sk-label-container {text-align: center;}#sk-container-id-2 div.sk-container {/* jupyter's `normalize.less` sets `[hidden] { display: none; }` but bootstrap.min.css set `[hidden] { display: none !important; }` so we also need the `!important` here to be able to override the default hidden behavior on the sphinx rendered scikit-learn.org. See: https://github.com/scikit-learn/scikit-learn/issues/21755 */display: inline-block !important;position: relative;}#sk-container-id-2 div.sk-text-repr-fallback {display: none;}</style><div id=\"sk-container-id-2\" class=\"sk-top-container\"><div class=\"sk-text-repr-fallback\"><pre>Pipeline(steps=[(&#x27;tfidf&#x27;, TfidfVectorizer(analyzer=&#x27;char&#x27;, ngram_range=(2, 7))),\n",
       "                (&#x27;sgdclassifier&#x27;,\n",
       "                 SGDClassifier(eta0=0.1, learning_rate=&#x27;constant&#x27;,\n",
       "                               loss=&#x27;log_loss&#x27;, max_iter=100, power_t=0.1,\n",
       "                               warm_start=True))])</pre><b>In a Jupyter environment, please rerun this cell to show the HTML representation or trust the notebook. <br />On GitHub, the HTML representation is unable to render, please try loading this page with nbviewer.org.</b></div><div class=\"sk-container\" hidden><div class=\"sk-item sk-dashed-wrapped\"><div class=\"sk-label-container\"><div class=\"sk-label sk-toggleable\"><input class=\"sk-toggleable__control sk-hidden--visually\" id=\"sk-estimator-id-4\" type=\"checkbox\" ><label for=\"sk-estimator-id-4\" class=\"sk-toggleable__label sk-toggleable__label-arrow\">Pipeline</label><div class=\"sk-toggleable__content\"><pre>Pipeline(steps=[(&#x27;tfidf&#x27;, TfidfVectorizer(analyzer=&#x27;char&#x27;, ngram_range=(2, 7))),\n",
       "                (&#x27;sgdclassifier&#x27;,\n",
       "                 SGDClassifier(eta0=0.1, learning_rate=&#x27;constant&#x27;,\n",
       "                               loss=&#x27;log_loss&#x27;, max_iter=100, power_t=0.1,\n",
       "                               warm_start=True))])</pre></div></div></div><div class=\"sk-serial\"><div class=\"sk-item\"><div class=\"sk-estimator sk-toggleable\"><input class=\"sk-toggleable__control sk-hidden--visually\" id=\"sk-estimator-id-5\" type=\"checkbox\" ><label for=\"sk-estimator-id-5\" class=\"sk-toggleable__label sk-toggleable__label-arrow\">TfidfVectorizer</label><div class=\"sk-toggleable__content\"><pre>TfidfVectorizer(analyzer=&#x27;char&#x27;, ngram_range=(2, 7))</pre></div></div></div><div class=\"sk-item\"><div class=\"sk-estimator sk-toggleable\"><input class=\"sk-toggleable__control sk-hidden--visually\" id=\"sk-estimator-id-6\" type=\"checkbox\" ><label for=\"sk-estimator-id-6\" class=\"sk-toggleable__label sk-toggleable__label-arrow\">SGDClassifier</label><div class=\"sk-toggleable__content\"><pre>SGDClassifier(eta0=0.1, learning_rate=&#x27;constant&#x27;, loss=&#x27;log_loss&#x27;, max_iter=100,\n",
       "              power_t=0.1, warm_start=True)</pre></div></div></div></div></div></div></div>"
      ],
      "text/plain": [
       "Pipeline(steps=[('tfidf', TfidfVectorizer(analyzer='char', ngram_range=(2, 7))),\n",
       "                ('sgdclassifier',\n",
       "                 SGDClassifier(eta0=0.1, learning_rate='constant',\n",
       "                               loss='log_loss', max_iter=100, power_t=0.1,\n",
       "                               warm_start=True))])"
      ]
     },
     "execution_count": 9,
     "metadata": {},
     "output_type": "execute_result"
    }
   ],
   "source": [
    "pipe.fit(X_train, y_train)"
   ]
  },
  {
   "cell_type": "code",
   "execution_count": 10,
   "metadata": {},
   "outputs": [
    {
     "data": {
      "text/html": [
       "<pre style=\"white-space:pre;overflow-x:auto;line-height:normal;font-family:Menlo,'DejaVu Sans Mono',consolas,'Courier New',monospace\"></pre>\n"
      ],
      "text/plain": []
     },
     "metadata": {},
     "output_type": "display_data"
    },
    {
     "data": {
      "text/plain": [
       "\n",
       "\u001b[1;35marray\u001b[0m\u001b[1m(\u001b[0m\u001b[1m[\u001b[0m\u001b[32m'computer-vision'\u001b[0m, \u001b[32m'computer-vision'\u001b[0m, \u001b[32m'graph-learning'\u001b[0m,\n",
       "       \u001b[32m'reinforcement-learning'\u001b[0m, \u001b[32m'graph-learning'\u001b[0m, \u001b[32m'graph-learning'\u001b[0m,\n",
       "       \u001b[32m'graph-learning'\u001b[0m, \u001b[32m'graph-learning'\u001b[0m, \u001b[32m'graph-learning'\u001b[0m,\n",
       "       \u001b[32m'computer-vision'\u001b[0m, \u001b[32m'computer-vision'\u001b[0m, \u001b[32m'computer-vision'\u001b[0m,\n",
       "       \u001b[32m'computer-vision'\u001b[0m, \u001b[32m'computer-vision'\u001b[0m, \u001b[32m'computer-vision'\u001b[0m,\n",
       "       \u001b[32m'computer-vision'\u001b[0m, \u001b[32m'graph-learning'\u001b[0m, \u001b[32m'natural-language-processing'\u001b[0m,\n",
       "       \u001b[32m'mlops'\u001b[0m, \u001b[32m'computer-vision'\u001b[0m, \u001b[32m'computer-vision'\u001b[0m, \u001b[32m'computer-vision'\u001b[0m,\n",
       "       \u001b[32m'natural-language-processing'\u001b[0m, \u001b[32m'natural-language-processing'\u001b[0m,\n",
       "       \u001b[32m'natural-language-processing'\u001b[0m, \u001b[32m'computer-vision'\u001b[0m,\n",
       "       \u001b[32m'computer-vision'\u001b[0m, \u001b[32m'computer-vision'\u001b[0m, \u001b[32m'computer-vision'\u001b[0m,\n",
       "       \u001b[32m'computer-vision'\u001b[0m, \u001b[32m'computer-vision'\u001b[0m, \u001b[32m'reinforcement-learning'\u001b[0m,\n",
       "       \u001b[32m'natural-language-processing'\u001b[0m, \u001b[32m'natural-language-processing'\u001b[0m,\n",
       "       \u001b[32m'natural-language-processing'\u001b[0m, \u001b[32m'computer-vision'\u001b[0m,\n",
       "       \u001b[32m'natural-language-processing'\u001b[0m, \u001b[32m'mlops'\u001b[0m, \u001b[32m'computer-vision'\u001b[0m,\n",
       "       \u001b[32m'natural-language-processing'\u001b[0m, \u001b[32m'computer-vision'\u001b[0m,\n",
       "       \u001b[32m'natural-language-processing'\u001b[0m, \u001b[32m'graph-learning'\u001b[0m, \u001b[32m'computer-vision'\u001b[0m,\n",
       "       \u001b[32m'graph-learning'\u001b[0m, \u001b[32m'computer-vision'\u001b[0m, \u001b[32m'computer-vision'\u001b[0m, \u001b[32m'mlops'\u001b[0m,\n",
       "       \u001b[32m'natural-language-processing'\u001b[0m, \u001b[32m'natural-language-processing'\u001b[0m,\n",
       "       \u001b[32m'computer-vision'\u001b[0m, \u001b[32m'natural-language-processing'\u001b[0m,\n",
       "       \u001b[32m'natural-language-processing'\u001b[0m, \u001b[32m'computer-vision'\u001b[0m,\n",
       "       \u001b[32m'natural-language-processing'\u001b[0m, \u001b[32m'natural-language-processing'\u001b[0m,\n",
       "       \u001b[32m'computer-vision'\u001b[0m, \u001b[32m'computer-vision'\u001b[0m,\n",
       "       \u001b[32m'natural-language-processing'\u001b[0m, \u001b[32m'time-series'\u001b[0m,\n",
       "       \u001b[32m'natural-language-processing'\u001b[0m, \u001b[32m'natural-language-processing'\u001b[0m,\n",
       "       \u001b[32m'natural-language-processing'\u001b[0m, \u001b[32m'natural-language-processing'\u001b[0m,\n",
       "       \u001b[32m'natural-language-processing'\u001b[0m, \u001b[32m'natural-language-processing'\u001b[0m,\n",
       "       \u001b[32m'natural-language-processing'\u001b[0m, \u001b[32m'natural-language-processing'\u001b[0m,\n",
       "       \u001b[32m'natural-language-processing'\u001b[0m, \u001b[32m'natural-language-processing'\u001b[0m,\n",
       "       \u001b[32m'natural-language-processing'\u001b[0m, \u001b[32m'natural-language-processing'\u001b[0m,\n",
       "       \u001b[32m'natural-language-processing'\u001b[0m, \u001b[32m'natural-language-processing'\u001b[0m,\n",
       "       \u001b[32m'natural-language-processing'\u001b[0m, \u001b[32m'natural-language-processing'\u001b[0m,\n",
       "       \u001b[32m'natural-language-processing'\u001b[0m, \u001b[32m'reinforcement-learning'\u001b[0m,\n",
       "       \u001b[32m'computer-vision'\u001b[0m, \u001b[32m'reinforcement-learning'\u001b[0m,\n",
       "       \u001b[32m'reinforcement-learning'\u001b[0m, \u001b[32m'natural-language-processing'\u001b[0m,\n",
       "       \u001b[32m'reinforcement-learning'\u001b[0m, \u001b[32m'computer-vision'\u001b[0m,\n",
       "       \u001b[32m'natural-language-processing'\u001b[0m, \u001b[32m'computer-vision'\u001b[0m,\n",
       "       \u001b[32m'computer-vision'\u001b[0m, \u001b[32m'graph-learning'\u001b[0m, \u001b[32m'graph-learning'\u001b[0m,\n",
       "       \u001b[32m'natural-language-processing'\u001b[0m, \u001b[32m'natural-language-processing'\u001b[0m,\n",
       "       \u001b[32m'natural-language-processing'\u001b[0m, \u001b[32m'natural-language-processing'\u001b[0m,\n",
       "       \u001b[32m'computer-vision'\u001b[0m, \u001b[32m'natural-language-processing'\u001b[0m,\n",
       "       \u001b[32m'computer-vision'\u001b[0m, \u001b[32m'computer-vision'\u001b[0m,\n",
       "       \u001b[32m'natural-language-processing'\u001b[0m, \u001b[32m'natural-language-processing'\u001b[0m,\n",
       "       \u001b[32m'natural-language-processing'\u001b[0m, \u001b[32m'mlops'\u001b[0m, \u001b[32m'mlops'\u001b[0m,\n",
       "       \u001b[32m'natural-language-processing'\u001b[0m, \u001b[32m'natural-language-processing'\u001b[0m,\n",
       "       \u001b[32m'natural-language-processing'\u001b[0m, \u001b[32m'natural-language-processing'\u001b[0m,\n",
       "       \u001b[32m'reinforcement-learning'\u001b[0m, \u001b[32m'reinforcement-learning'\u001b[0m,\n",
       "       \u001b[32m'graph-learning'\u001b[0m, \u001b[32m'computer-vision'\u001b[0m, \u001b[32m'natural-language-processing'\u001b[0m,\n",
       "       \u001b[32m'natural-language-processing'\u001b[0m, \u001b[32m'computer-vision'\u001b[0m,\n",
       "       \u001b[32m'computer-vision'\u001b[0m, \u001b[32m'natural-language-processing'\u001b[0m,\n",
       "       \u001b[32m'computer-vision'\u001b[0m, \u001b[32m'mlops'\u001b[0m, \u001b[32m'natural-language-processing'\u001b[0m,\n",
       "       \u001b[32m'computer-vision'\u001b[0m, \u001b[32m'natural-language-processing'\u001b[0m, \u001b[32m'time-series'\u001b[0m,\n",
       "       \u001b[32m'computer-vision'\u001b[0m, \u001b[32m'natural-language-processing'\u001b[0m,\n",
       "       \u001b[32m'natural-language-processing'\u001b[0m, \u001b[32m'natural-language-processing'\u001b[0m,\n",
       "       \u001b[32m'computer-vision'\u001b[0m, \u001b[32m'natural-language-processing'\u001b[0m,\n",
       "       \u001b[32m'natural-language-processing'\u001b[0m, \u001b[32m'natural-language-processing'\u001b[0m,\n",
       "       \u001b[32m'natural-language-processing'\u001b[0m, \u001b[32m'natural-language-processing'\u001b[0m,\n",
       "       \u001b[32m'natural-language-processing'\u001b[0m, \u001b[32m'natural-language-processing'\u001b[0m,\n",
       "       \u001b[32m'natural-language-processing'\u001b[0m, \u001b[32m'computer-vision'\u001b[0m,\n",
       "       \u001b[32m'natural-language-processing'\u001b[0m, \u001b[32m'computer-vision'\u001b[0m,\n",
       "       \u001b[32m'computer-vision'\u001b[0m, \u001b[32m'computer-vision'\u001b[0m,\n",
       "       \u001b[32m'natural-language-processing'\u001b[0m, \u001b[32m'natural-language-processing'\u001b[0m,\n",
       "       \u001b[32m'natural-language-processing'\u001b[0m, \u001b[32m'natural-language-processing'\u001b[0m,\n",
       "       \u001b[32m'natural-language-processing'\u001b[0m, \u001b[32m'natural-language-processing'\u001b[0m,\n",
       "       \u001b[32m'natural-language-processing'\u001b[0m, \u001b[32m'computer-vision'\u001b[0m,\n",
       "       \u001b[32m'computer-vision'\u001b[0m, \u001b[32m'computer-vision'\u001b[0m, \u001b[32m'computer-vision'\u001b[0m,\n",
       "       \u001b[32m'computer-vision'\u001b[0m, \u001b[32m'computer-vision'\u001b[0m, \u001b[32m'computer-vision'\u001b[0m,\n",
       "       \u001b[32m'computer-vision'\u001b[0m, \u001b[32m'computer-vision'\u001b[0m, \u001b[32m'computer-vision'\u001b[0m,\n",
       "       \u001b[32m'computer-vision'\u001b[0m, \u001b[32m'computer-vision'\u001b[0m, \u001b[32m'computer-vision'\u001b[0m,\n",
       "       \u001b[32m'computer-vision'\u001b[0m, \u001b[32m'computer-vision'\u001b[0m, \u001b[32m'computer-vision'\u001b[0m,\n",
       "       \u001b[32m'natural-language-processing'\u001b[0m, \u001b[32m'computer-vision'\u001b[0m, \u001b[32m'time-series'\u001b[0m,\n",
       "       \u001b[32m'computer-vision'\u001b[0m, \u001b[32m'time-series'\u001b[0m, \u001b[32m'natural-language-processing'\u001b[0m,\n",
       "       \u001b[32m'computer-vision'\u001b[0m, \u001b[32m'computer-vision'\u001b[0m,\n",
       "       \u001b[32m'natural-language-processing'\u001b[0m, \u001b[32m'mlops'\u001b[0m, \u001b[32m'computer-vision'\u001b[0m,\n",
       "       \u001b[32m'computer-vision'\u001b[0m, \u001b[32m'natural-language-processing'\u001b[0m,\n",
       "       \u001b[32m'computer-vision'\u001b[0m, \u001b[32m'mlops'\u001b[0m, \u001b[32m'natural-language-processing'\u001b[0m, \u001b[32m'mlops'\u001b[0m,\n",
       "       \u001b[32m'natural-language-processing'\u001b[0m, \u001b[32m'natural-language-processing'\u001b[0m,\n",
       "       \u001b[32m'computer-vision'\u001b[0m, \u001b[32m'natural-language-processing'\u001b[0m,\n",
       "       \u001b[32m'natural-language-processing'\u001b[0m, \u001b[32m'reinforcement-learning'\u001b[0m,\n",
       "       \u001b[32m'computer-vision'\u001b[0m, \u001b[32m'computer-vision'\u001b[0m, \u001b[32m'computer-vision'\u001b[0m,\n",
       "       \u001b[32m'natural-language-processing'\u001b[0m, \u001b[32m'natural-language-processing'\u001b[0m,\n",
       "       \u001b[32m'graph-learning'\u001b[0m, \u001b[32m'reinforcement-learning'\u001b[0m,\n",
       "       \u001b[32m'natural-language-processing'\u001b[0m, \u001b[32m'computer-vision'\u001b[0m,\n",
       "       \u001b[32m'natural-language-processing'\u001b[0m, \u001b[32m'natural-language-processing'\u001b[0m,\n",
       "       \u001b[32m'natural-language-processing'\u001b[0m, \u001b[32m'natural-language-processing'\u001b[0m,\n",
       "       \u001b[32m'natural-language-processing'\u001b[0m, \u001b[32m'computer-vision'\u001b[0m,\n",
       "       \u001b[32m'computer-vision'\u001b[0m, \u001b[32m'natural-language-processing'\u001b[0m,\n",
       "       \u001b[32m'computer-vision'\u001b[0m, \u001b[32m'graph-learning'\u001b[0m, \u001b[32m'natural-language-processing'\u001b[0m,\n",
       "       \u001b[32m'natural-language-processing'\u001b[0m, \u001b[32m'time-series'\u001b[0m, \u001b[32m'computer-vision'\u001b[0m,\n",
       "       \u001b[32m'natural-language-processing'\u001b[0m, \u001b[32m'natural-language-processing'\u001b[0m,\n",
       "       \u001b[32m'natural-language-processing'\u001b[0m, \u001b[32m'computer-vision'\u001b[0m,\n",
       "       \u001b[32m'natural-language-processing'\u001b[0m, \u001b[32m'computer-vision'\u001b[0m,\n",
       "       \u001b[32m'natural-language-processing'\u001b[0m, \u001b[32m'natural-language-processing'\u001b[0m,\n",
       "       \u001b[32m'time-series'\u001b[0m, \u001b[32m'time-series'\u001b[0m, \u001b[32m'natural-language-processing'\u001b[0m,\n",
       "       \u001b[32m'computer-vision'\u001b[0m, \u001b[32m'graph-learning'\u001b[0m, \u001b[32m'computer-vision'\u001b[0m,\n",
       "       \u001b[32m'natural-language-processing'\u001b[0m, \u001b[32m'natural-language-processing'\u001b[0m,\n",
       "       \u001b[32m'natural-language-processing'\u001b[0m, \u001b[32m'natural-language-processing'\u001b[0m,\n",
       "       \u001b[32m'natural-language-processing'\u001b[0m, \u001b[32m'computer-vision'\u001b[0m,\n",
       "       \u001b[32m'natural-language-processing'\u001b[0m, \u001b[32m'computer-vision'\u001b[0m,\n",
       "       \u001b[32m'computer-vision'\u001b[0m, \u001b[32m'computer-vision'\u001b[0m, \u001b[32m'graph-learning'\u001b[0m, \u001b[32m'mlops'\u001b[0m,\n",
       "       \u001b[32m'computer-vision'\u001b[0m, \u001b[32m'graph-learning'\u001b[0m, \u001b[32m'mlops'\u001b[0m, \u001b[32m'computer-vision'\u001b[0m,\n",
       "       \u001b[32m'natural-language-processing'\u001b[0m, \u001b[32m'computer-vision'\u001b[0m,\n",
       "       \u001b[32m'natural-language-processing'\u001b[0m, \u001b[32m'reinforcement-learning'\u001b[0m,\n",
       "       \u001b[32m'computer-vision'\u001b[0m, \u001b[32m'computer-vision'\u001b[0m, \u001b[32m'reinforcement-learning'\u001b[0m,\n",
       "       \u001b[32m'natural-language-processing'\u001b[0m, \u001b[32m'computer-vision'\u001b[0m, \u001b[32m'graph-learning'\u001b[0m,\n",
       "       \u001b[32m'natural-language-processing'\u001b[0m, \u001b[32m'computer-vision'\u001b[0m,\n",
       "       \u001b[32m'natural-language-processing'\u001b[0m, \u001b[32m'natural-language-processing'\u001b[0m,\n",
       "       \u001b[32m'natural-language-processing'\u001b[0m, \u001b[32m'computer-vision'\u001b[0m,\n",
       "       \u001b[32m'natural-language-processing'\u001b[0m, \u001b[32m'natural-language-processing'\u001b[0m,\n",
       "       \u001b[32m'natural-language-processing'\u001b[0m, \u001b[32m'natural-language-processing'\u001b[0m,\n",
       "       \u001b[32m'reinforcement-learning'\u001b[0m, \u001b[32m'computer-vision'\u001b[0m,\n",
       "       \u001b[32m'natural-language-processing'\u001b[0m, \u001b[32m'natural-language-processing'\u001b[0m,\n",
       "       \u001b[32m'natural-language-processing'\u001b[0m, \u001b[32m'natural-language-processing'\u001b[0m,\n",
       "       \u001b[32m'natural-language-processing'\u001b[0m, \u001b[32m'computer-vision'\u001b[0m,\n",
       "       \u001b[32m'computer-vision'\u001b[0m, \u001b[32m'natural-language-processing'\u001b[0m, \u001b[32m'time-series'\u001b[0m,\n",
       "       \u001b[32m'natural-language-processing'\u001b[0m, \u001b[32m'reinforcement-learning'\u001b[0m,\n",
       "       \u001b[32m'natural-language-processing'\u001b[0m, \u001b[32m'natural-language-processing'\u001b[0m,\n",
       "       \u001b[32m'computer-vision'\u001b[0m, \u001b[32m'reinforcement-learning'\u001b[0m,\n",
       "       \u001b[32m'natural-language-processing'\u001b[0m, \u001b[32m'natural-language-processing'\u001b[0m,\n",
       "       \u001b[32m'computer-vision'\u001b[0m, \u001b[32m'natural-language-processing'\u001b[0m,\n",
       "       \u001b[32m'computer-vision'\u001b[0m, \u001b[32m'reinforcement-learning'\u001b[0m,\n",
       "       \u001b[32m'natural-language-processing'\u001b[0m, \u001b[32m'natural-language-processing'\u001b[0m,\n",
       "       \u001b[32m'natural-language-processing'\u001b[0m, \u001b[32m'natural-language-processing'\u001b[0m,\n",
       "       \u001b[32m'natural-language-processing'\u001b[0m, \u001b[32m'computer-vision'\u001b[0m,\n",
       "       \u001b[32m'natural-language-processing'\u001b[0m, \u001b[32m'reinforcement-learning'\u001b[0m,\n",
       "       \u001b[32m'natural-language-processing'\u001b[0m, \u001b[32m'time-series'\u001b[0m, \u001b[32m'computer-vision'\u001b[0m,\n",
       "       \u001b[32m'computer-vision'\u001b[0m, \u001b[32m'time-series'\u001b[0m, \u001b[32m'computer-vision'\u001b[0m,\n",
       "       \u001b[32m'computer-vision'\u001b[0m, \u001b[32m'computer-vision'\u001b[0m, \u001b[32m'computer-vision'\u001b[0m,\n",
       "       \u001b[32m'computer-vision'\u001b[0m, \u001b[32m'computer-vision'\u001b[0m,\n",
       "       \u001b[32m'natural-language-processing'\u001b[0m, \u001b[32m'computer-vision'\u001b[0m,\n",
       "       \u001b[32m'natural-language-processing'\u001b[0m, \u001b[32m'mlops'\u001b[0m,\n",
       "       \u001b[32m'natural-language-processing'\u001b[0m, \u001b[32m'natural-language-processing'\u001b[0m,\n",
       "       \u001b[32m'natural-language-processing'\u001b[0m, \u001b[32m'natural-language-processing'\u001b[0m,\n",
       "       \u001b[32m'computer-vision'\u001b[0m, \u001b[32m'computer-vision'\u001b[0m, \u001b[32m'time-series'\u001b[0m,\n",
       "       \u001b[32m'computer-vision'\u001b[0m, \u001b[32m'computer-vision'\u001b[0m,\n",
       "       \u001b[32m'natural-language-processing'\u001b[0m, \u001b[32m'natural-language-processing'\u001b[0m,\n",
       "       \u001b[32m'computer-vision'\u001b[0m, \u001b[32m'computer-vision'\u001b[0m,\n",
       "       \u001b[32m'natural-language-processing'\u001b[0m, \u001b[32m'natural-language-processing'\u001b[0m,\n",
       "       \u001b[32m'computer-vision'\u001b[0m, \u001b[32m'natural-language-processing'\u001b[0m,\n",
       "       \u001b[32m'natural-language-processing'\u001b[0m, \u001b[32m'reinforcement-learning'\u001b[0m,\n",
       "       \u001b[32m'computer-vision'\u001b[0m, \u001b[32m'computer-vision'\u001b[0m,\n",
       "       \u001b[32m'natural-language-processing'\u001b[0m, \u001b[32m'natural-language-processing'\u001b[0m,\n",
       "       \u001b[32m'natural-language-processing'\u001b[0m, \u001b[32m'natural-language-processing'\u001b[0m,\n",
       "       \u001b[32m'natural-language-processing'\u001b[0m, \u001b[32m'natural-language-processing'\u001b[0m,\n",
       "       \u001b[32m'natural-language-processing'\u001b[0m, \u001b[32m'natural-language-processing'\u001b[0m,\n",
       "       \u001b[32m'natural-language-processing'\u001b[0m, \u001b[32m'computer-vision'\u001b[0m,\n",
       "       \u001b[32m'natural-language-processing'\u001b[0m, \u001b[32m'computer-vision'\u001b[0m,\n",
       "       \u001b[32m'natural-language-processing'\u001b[0m, \u001b[32m'natural-language-processing'\u001b[0m,\n",
       "       \u001b[32m'natural-language-processing'\u001b[0m, \u001b[32m'natural-language-processing'\u001b[0m,\n",
       "       \u001b[32m'computer-vision'\u001b[0m, \u001b[32m'computer-vision'\u001b[0m, \u001b[32m'computer-vision'\u001b[0m, \u001b[32m'mlops'\u001b[0m,\n",
       "       \u001b[32m'computer-vision'\u001b[0m, \u001b[32m'natural-language-processing'\u001b[0m,\n",
       "       \u001b[32m'natural-language-processing'\u001b[0m, \u001b[32m'computer-vision'\u001b[0m,\n",
       "       \u001b[32m'computer-vision'\u001b[0m, \u001b[32m'computer-vision'\u001b[0m,\n",
       "       \u001b[32m'natural-language-processing'\u001b[0m, \u001b[32m'natural-language-processing'\u001b[0m,\n",
       "       \u001b[32m'reinforcement-learning'\u001b[0m, \u001b[32m'computer-vision'\u001b[0m, \u001b[32m'mlops'\u001b[0m,\n",
       "       \u001b[32m'natural-language-processing'\u001b[0m, \u001b[32m'natural-language-processing'\u001b[0m,\n",
       "       \u001b[32m'natural-language-processing'\u001b[0m, \u001b[32m'time-series'\u001b[0m, \u001b[32m'computer-vision'\u001b[0m,\n",
       "       \u001b[32m'natural-language-processing'\u001b[0m, \u001b[32m'reinforcement-learning'\u001b[0m,\n",
       "       \u001b[32m'natural-language-processing'\u001b[0m, \u001b[32m'natural-language-processing'\u001b[0m,\n",
       "       \u001b[32m'reinforcement-learning'\u001b[0m, \u001b[32m'computer-vision'\u001b[0m,\n",
       "       \u001b[32m'reinforcement-learning'\u001b[0m, \u001b[32m'natural-language-processing'\u001b[0m,\n",
       "       \u001b[32m'computer-vision'\u001b[0m, \u001b[32m'natural-language-processing'\u001b[0m,\n",
       "       \u001b[32m'natural-language-processing'\u001b[0m, \u001b[32m'natural-language-processing'\u001b[0m,\n",
       "       \u001b[32m'natural-language-processing'\u001b[0m, \u001b[32m'natural-language-processing'\u001b[0m,\n",
       "       \u001b[32m'natural-language-processing'\u001b[0m, \u001b[32m'natural-language-processing'\u001b[0m,\n",
       "       \u001b[32m'natural-language-processing'\u001b[0m, \u001b[32m'computer-vision'\u001b[0m,\n",
       "       \u001b[32m'natural-language-processing'\u001b[0m, \u001b[32m'computer-vision'\u001b[0m,\n",
       "       \u001b[32m'natural-language-processing'\u001b[0m, \u001b[32m'computer-vision'\u001b[0m,\n",
       "       \u001b[32m'natural-language-processing'\u001b[0m, \u001b[32m'computer-vision'\u001b[0m,\n",
       "       \u001b[32m'natural-language-processing'\u001b[0m, \u001b[32m'natural-language-processing'\u001b[0m,\n",
       "       \u001b[32m'time-series'\u001b[0m, \u001b[32m'natural-language-processing'\u001b[0m,\n",
       "       \u001b[32m'natural-language-processing'\u001b[0m, \u001b[32m'computer-vision'\u001b[0m,\n",
       "       \u001b[32m'natural-language-processing'\u001b[0m, \u001b[32m'natural-language-processing'\u001b[0m,\n",
       "       \u001b[32m'computer-vision'\u001b[0m, \u001b[32m'computer-vision'\u001b[0m, \u001b[32m'computer-vision'\u001b[0m,\n",
       "       \u001b[32m'natural-language-processing'\u001b[0m, \u001b[32m'mlops'\u001b[0m, \u001b[32m'reinforcement-learning'\u001b[0m,\n",
       "       \u001b[32m'natural-language-processing'\u001b[0m, \u001b[32m'natural-language-processing'\u001b[0m,\n",
       "       \u001b[32m'natural-language-processing'\u001b[0m, \u001b[32m'computer-vision'\u001b[0m,\n",
       "       \u001b[32m'natural-language-processing'\u001b[0m, \u001b[32m'natural-language-processing'\u001b[0m,\n",
       "       \u001b[32m'natural-language-processing'\u001b[0m, \u001b[32m'natural-language-processing'\u001b[0m,\n",
       "       \u001b[32m'natural-language-processing'\u001b[0m, \u001b[32m'reinforcement-learning'\u001b[0m,\n",
       "       \u001b[32m'natural-language-processing'\u001b[0m, \u001b[32m'natural-language-processing'\u001b[0m,\n",
       "       \u001b[32m'computer-vision'\u001b[0m, \u001b[32m'natural-language-processing'\u001b[0m,\n",
       "       \u001b[32m'computer-vision'\u001b[0m, \u001b[32m'computer-vision'\u001b[0m, \u001b[32m'reinforcement-learning'\u001b[0m,\n",
       "       \u001b[32m'time-series'\u001b[0m, \u001b[32m'mlops'\u001b[0m, \u001b[32m'computer-vision'\u001b[0m,\n",
       "       \u001b[32m'natural-language-processing'\u001b[0m, \u001b[32m'computer-vision'\u001b[0m,\n",
       "       \u001b[32m'computer-vision'\u001b[0m, \u001b[32m'computer-vision'\u001b[0m, \u001b[32m'computer-vision'\u001b[0m,\n",
       "       \u001b[32m'computer-vision'\u001b[0m, \u001b[32m'computer-vision'\u001b[0m, \u001b[32m'computer-vision'\u001b[0m,\n",
       "       \u001b[32m'time-series'\u001b[0m, \u001b[32m'computer-vision'\u001b[0m, \u001b[32m'reinforcement-learning'\u001b[0m,\n",
       "       \u001b[32m'computer-vision'\u001b[0m, \u001b[32m'natural-language-processing'\u001b[0m,\n",
       "       \u001b[32m'computer-vision'\u001b[0m, \u001b[32m'reinforcement-learning'\u001b[0m, \u001b[32m'computer-vision'\u001b[0m,\n",
       "       \u001b[32m'natural-language-processing'\u001b[0m, \u001b[32m'natural-language-processing'\u001b[0m,\n",
       "       \u001b[32m'natural-language-processing'\u001b[0m, \u001b[32m'computer-vision'\u001b[0m,\n",
       "       \u001b[32m'computer-vision'\u001b[0m, \u001b[32m'mlops'\u001b[0m, \u001b[32m'computer-vision'\u001b[0m,\n",
       "       \u001b[32m'natural-language-processing'\u001b[0m, \u001b[32m'computer-vision'\u001b[0m,\n",
       "       \u001b[32m'reinforcement-learning'\u001b[0m, \u001b[32m'natural-language-processing'\u001b[0m,\n",
       "       \u001b[32m'natural-language-processing'\u001b[0m, \u001b[32m'graph-learning'\u001b[0m,\n",
       "       \u001b[32m'natural-language-processing'\u001b[0m, \u001b[32m'reinforcement-learning'\u001b[0m,\n",
       "       \u001b[32m'computer-vision'\u001b[0m, \u001b[32m'computer-vision'\u001b[0m, \u001b[32m'mlops'\u001b[0m, \u001b[32m'computer-vision'\u001b[0m,\n",
       "       \u001b[32m'computer-vision'\u001b[0m, \u001b[32m'computer-vision'\u001b[0m, \u001b[32m'computer-vision'\u001b[0m,\n",
       "       \u001b[32m'computer-vision'\u001b[0m, \u001b[32m'mlops'\u001b[0m, \u001b[32m'graph-learning'\u001b[0m, \u001b[32m'computer-vision'\u001b[0m,\n",
       "       \u001b[32m'natural-language-processing'\u001b[0m, \u001b[32m'natural-language-processing'\u001b[0m,\n",
       "       \u001b[32m'natural-language-processing'\u001b[0m, \u001b[32m'natural-language-processing'\u001b[0m,\n",
       "       \u001b[32m'mlops'\u001b[0m, \u001b[32m'reinforcement-learning'\u001b[0m, \u001b[32m'computer-vision'\u001b[0m,\n",
       "       \u001b[32m'computer-vision'\u001b[0m, \u001b[32m'computer-vision'\u001b[0m, \u001b[32m'reinforcement-learning'\u001b[0m,\n",
       "       \u001b[32m'natural-language-processing'\u001b[0m, \u001b[32m'graph-learning'\u001b[0m,\n",
       "       \u001b[32m'natural-language-processing'\u001b[0m, \u001b[32m'natural-language-processing'\u001b[0m,\n",
       "       \u001b[32m'natural-language-processing'\u001b[0m, \u001b[32m'computer-vision'\u001b[0m, \u001b[32m'graph-learning'\u001b[0m,\n",
       "       \u001b[32m'reinforcement-learning'\u001b[0m, \u001b[32m'reinforcement-learning'\u001b[0m,\n",
       "       \u001b[32m'natural-language-processing'\u001b[0m, \u001b[32m'computer-vision'\u001b[0m,\n",
       "       \u001b[32m'computer-vision'\u001b[0m, \u001b[32m'natural-language-processing'\u001b[0m,\n",
       "       \u001b[32m'natural-language-processing'\u001b[0m, \u001b[32m'computer-vision'\u001b[0m,\n",
       "       \u001b[32m'natural-language-processing'\u001b[0m, \u001b[32m'natural-language-processing'\u001b[0m,\n",
       "       \u001b[32m'natural-language-processing'\u001b[0m, \u001b[32m'time-series'\u001b[0m, \u001b[32m'computer-vision'\u001b[0m,\n",
       "       \u001b[32m'natural-language-processing'\u001b[0m, \u001b[32m'computer-vision'\u001b[0m,\n",
       "       \u001b[32m'natural-language-processing'\u001b[0m, \u001b[32m'mlops'\u001b[0m, \u001b[32m'computer-vision'\u001b[0m,\n",
       "       \u001b[32m'computer-vision'\u001b[0m, \u001b[32m'time-series'\u001b[0m, \u001b[32m'natural-language-processing'\u001b[0m,\n",
       "       \u001b[32m'natural-language-processing'\u001b[0m, \u001b[32m'reinforcement-learning'\u001b[0m,\n",
       "       \u001b[32m'natural-language-processing'\u001b[0m, \u001b[32m'computer-vision'\u001b[0m,\n",
       "       \u001b[32m'reinforcement-learning'\u001b[0m, \u001b[32m'mlops'\u001b[0m, \u001b[32m'computer-vision'\u001b[0m,\n",
       "       \u001b[32m'reinforcement-learning'\u001b[0m, \u001b[32m'computer-vision'\u001b[0m, \u001b[32m'time-series'\u001b[0m,\n",
       "       \u001b[32m'computer-vision'\u001b[0m, \u001b[32m'natural-language-processing'\u001b[0m,\n",
       "       \u001b[32m'natural-language-processing'\u001b[0m, \u001b[32m'natural-language-processing'\u001b[0m,\n",
       "       \u001b[32m'natural-language-processing'\u001b[0m, \u001b[32m'computer-vision'\u001b[0m,\n",
       "       \u001b[32m'natural-language-processing'\u001b[0m, \u001b[32m'computer-vision'\u001b[0m,\n",
       "       \u001b[32m'natural-language-processing'\u001b[0m, \u001b[32m'natural-language-processing'\u001b[0m,\n",
       "       \u001b[32m'natural-language-processing'\u001b[0m, \u001b[32m'mlops'\u001b[0m, \u001b[32m'computer-vision'\u001b[0m,\n",
       "       \u001b[32m'graph-learning'\u001b[0m, \u001b[32m'mlops'\u001b[0m, \u001b[32m'computer-vision'\u001b[0m, \u001b[32m'computer-vision'\u001b[0m,\n",
       "       \u001b[32m'computer-vision'\u001b[0m, \u001b[32m'natural-language-processing'\u001b[0m,\n",
       "       \u001b[32m'natural-language-processing'\u001b[0m, \u001b[32m'computer-vision'\u001b[0m,\n",
       "       \u001b[32m'computer-vision'\u001b[0m, \u001b[32m'time-series'\u001b[0m, \u001b[32m'time-series'\u001b[0m,\n",
       "       \u001b[32m'natural-language-processing'\u001b[0m, \u001b[32m'natural-language-processing'\u001b[0m,\n",
       "       \u001b[32m'natural-language-processing'\u001b[0m, \u001b[32m'natural-language-processing'\u001b[0m,\n",
       "       \u001b[32m'natural-language-processing'\u001b[0m, \u001b[32m'natural-language-processing'\u001b[0m,\n",
       "       \u001b[32m'mlops'\u001b[0m, \u001b[32m'mlops'\u001b[0m, \u001b[32m'mlops'\u001b[0m, \u001b[32m'mlops'\u001b[0m, \u001b[32m'natural-language-processing'\u001b[0m,\n",
       "       \u001b[32m'computer-vision'\u001b[0m, \u001b[32m'computer-vision'\u001b[0m, \u001b[32m'computer-vision'\u001b[0m,\n",
       "       \u001b[32m'computer-vision'\u001b[0m, \u001b[32m'mlops'\u001b[0m, \u001b[32m'computer-vision'\u001b[0m, \u001b[32m'computer-vision'\u001b[0m,\n",
       "       \u001b[32m'computer-vision'\u001b[0m, \u001b[32m'computer-vision'\u001b[0m, \u001b[32m'mlops'\u001b[0m,\n",
       "       \u001b[32m'natural-language-processing'\u001b[0m, \u001b[32m'computer-vision'\u001b[0m, \u001b[32m'mlops'\u001b[0m,\n",
       "       \u001b[32m'computer-vision'\u001b[0m, \u001b[32m'computer-vision'\u001b[0m, \u001b[32m'computer-vision'\u001b[0m,\n",
       "       \u001b[32m'computer-vision'\u001b[0m, \u001b[32m'natural-language-processing'\u001b[0m,\n",
       "       \u001b[32m'natural-language-processing'\u001b[0m, \u001b[32m'computer-vision'\u001b[0m,\n",
       "       \u001b[32m'natural-language-processing'\u001b[0m, \u001b[32m'natural-language-processing'\u001b[0m,\n",
       "       \u001b[32m'computer-vision'\u001b[0m, \u001b[32m'mlops'\u001b[0m, \u001b[32m'computer-vision'\u001b[0m, \u001b[32m'computer-vision'\u001b[0m,\n",
       "       \u001b[32m'natural-language-processing'\u001b[0m, \u001b[32m'mlops'\u001b[0m,\n",
       "       \u001b[32m'natural-language-processing'\u001b[0m, \u001b[32m'computer-vision'\u001b[0m,\n",
       "       \u001b[32m'computer-vision'\u001b[0m, \u001b[32m'computer-vision'\u001b[0m, \u001b[32m'computer-vision'\u001b[0m,\n",
       "       \u001b[32m'computer-vision'\u001b[0m, \u001b[32m'mlops'\u001b[0m, \u001b[32m'computer-vision'\u001b[0m, \u001b[32m'computer-vision'\u001b[0m,\n",
       "       \u001b[32m'natural-language-processing'\u001b[0m, \u001b[32m'natural-language-processing'\u001b[0m,\n",
       "       \u001b[32m'natural-language-processing'\u001b[0m, \u001b[32m'computer-vision'\u001b[0m, \u001b[32m'graph-learning'\u001b[0m,\n",
       "       \u001b[32m'mlops'\u001b[0m, \u001b[32m'computer-vision'\u001b[0m, \u001b[32m'computer-vision'\u001b[0m,\n",
       "       \u001b[32m'natural-language-processing'\u001b[0m, \u001b[32m'natural-language-processing'\u001b[0m,\n",
       "       \u001b[32m'natural-language-processing'\u001b[0m, \u001b[32m'computer-vision'\u001b[0m,\n",
       "       \u001b[32m'natural-language-processing'\u001b[0m, \u001b[32m'graph-learning'\u001b[0m, \u001b[32m'mlops'\u001b[0m, \u001b[32m'mlops'\u001b[0m,\n",
       "       \u001b[32m'mlops'\u001b[0m, \u001b[32m'mlops'\u001b[0m, \u001b[32m'computer-vision'\u001b[0m, \u001b[32m'mlops'\u001b[0m,\n",
       "       \u001b[32m'natural-language-processing'\u001b[0m, \u001b[32m'computer-vision'\u001b[0m,\n",
       "       \u001b[32m'computer-vision'\u001b[0m, \u001b[32m'mlops'\u001b[0m, \u001b[32m'computer-vision'\u001b[0m, \u001b[32m'computer-vision'\u001b[0m,\n",
       "       \u001b[32m'natural-language-processing'\u001b[0m, \u001b[32m'graph-learning'\u001b[0m,\n",
       "       \u001b[32m'natural-language-processing'\u001b[0m, \u001b[32m'time-series'\u001b[0m, \u001b[32m'computer-vision'\u001b[0m,\n",
       "       \u001b[32m'computer-vision'\u001b[0m, \u001b[32m'natural-language-processing'\u001b[0m,\n",
       "       \u001b[32m'computer-vision'\u001b[0m, \u001b[32m'computer-vision'\u001b[0m,\n",
       "       \u001b[32m'natural-language-processing'\u001b[0m, \u001b[32m'computer-vision'\u001b[0m,\n",
       "       \u001b[32m'computer-vision'\u001b[0m, \u001b[32m'computer-vision'\u001b[0m, \u001b[32m'computer-vision'\u001b[0m,\n",
       "       \u001b[32m'computer-vision'\u001b[0m, \u001b[32m'natural-language-processing'\u001b[0m,\n",
       "       \u001b[32m'natural-language-processing'\u001b[0m, \u001b[32m'natural-language-processing'\u001b[0m,\n",
       "       \u001b[32m'mlops'\u001b[0m, \u001b[32m'computer-vision'\u001b[0m, \u001b[32m'computer-vision'\u001b[0m,\n",
       "       \u001b[32m'natural-language-processing'\u001b[0m, \u001b[32m'computer-vision'\u001b[0m,\n",
       "       \u001b[32m'natural-language-processing'\u001b[0m, \u001b[32m'mlops'\u001b[0m, \u001b[32m'mlops'\u001b[0m, \u001b[32m'computer-vision'\u001b[0m,\n",
       "       \u001b[32m'natural-language-processing'\u001b[0m, \u001b[32m'natural-language-processing'\u001b[0m,\n",
       "       \u001b[32m'natural-language-processing'\u001b[0m, \u001b[32m'mlops'\u001b[0m,\n",
       "       \u001b[32m'natural-language-processing'\u001b[0m, \u001b[32m'natural-language-processing'\u001b[0m,\n",
       "       \u001b[32m'computer-vision'\u001b[0m, \u001b[32m'computer-vision'\u001b[0m, \u001b[32m'mlops'\u001b[0m, \u001b[32m'computer-vision'\u001b[0m,\n",
       "       \u001b[32m'computer-vision'\u001b[0m, \u001b[32m'computer-vision'\u001b[0m, \u001b[32m'computer-vision'\u001b[0m,\n",
       "       \u001b[32m'computer-vision'\u001b[0m, \u001b[32m'natural-language-processing'\u001b[0m,\n",
       "       \u001b[32m'computer-vision'\u001b[0m, \u001b[32m'computer-vision'\u001b[0m,\n",
       "       \u001b[32m'natural-language-processing'\u001b[0m, \u001b[32m'time-series'\u001b[0m, \u001b[32m'mlops'\u001b[0m, \u001b[32m'mlops'\u001b[0m,\n",
       "       \u001b[32m'mlops'\u001b[0m, \u001b[32m'reinforcement-learning'\u001b[0m, \u001b[32m'time-series'\u001b[0m, \u001b[32m'mlops'\u001b[0m,\n",
       "       \u001b[32m'natural-language-processing'\u001b[0m, \u001b[32m'computer-vision'\u001b[0m,\n",
       "       \u001b[32m'natural-language-processing'\u001b[0m, \u001b[32m'natural-language-processing'\u001b[0m,\n",
       "       \u001b[32m'computer-vision'\u001b[0m, \u001b[32m'natural-language-processing'\u001b[0m,\n",
       "       \u001b[32m'computer-vision'\u001b[0m, \u001b[32m'natural-language-processing'\u001b[0m,\n",
       "       \u001b[32m'computer-vision'\u001b[0m, \u001b[32m'computer-vision'\u001b[0m,\n",
       "       \u001b[32m'natural-language-processing'\u001b[0m, \u001b[32m'natural-language-processing'\u001b[0m,\n",
       "       \u001b[32m'natural-language-processing'\u001b[0m, \u001b[32m'natural-language-processing'\u001b[0m,\n",
       "       \u001b[32m'mlops'\u001b[0m, \u001b[32m'mlops'\u001b[0m, \u001b[32m'graph-learning'\u001b[0m, \u001b[32m'computer-vision'\u001b[0m,\n",
       "       \u001b[32m'computer-vision'\u001b[0m, \u001b[32m'mlops'\u001b[0m, \u001b[32m'computer-vision'\u001b[0m, \u001b[32m'computer-vision'\u001b[0m,\n",
       "       \u001b[32m'computer-vision'\u001b[0m, \u001b[32m'natural-language-processing'\u001b[0m,\n",
       "       \u001b[32m'computer-vision'\u001b[0m, \u001b[32m'natural-language-processing'\u001b[0m,\n",
       "       \u001b[32m'natural-language-processing'\u001b[0m, \u001b[32m'reinforcement-learning'\u001b[0m,\n",
       "       \u001b[32m'computer-vision'\u001b[0m, \u001b[32m'computer-vision'\u001b[0m, \u001b[32m'graph-learning'\u001b[0m,\n",
       "       \u001b[32m'natural-language-processing'\u001b[0m, \u001b[32m'natural-language-processing'\u001b[0m,\n",
       "       \u001b[32m'reinforcement-learning'\u001b[0m, \u001b[32m'natural-language-processing'\u001b[0m,\n",
       "       \u001b[32m'graph-learning'\u001b[0m, \u001b[32m'computer-vision'\u001b[0m, \u001b[32m'computer-vision'\u001b[0m,\n",
       "       \u001b[32m'natural-language-processing'\u001b[0m, \u001b[32m'reinforcement-learning'\u001b[0m, \u001b[32m'mlops'\u001b[0m,\n",
       "       \u001b[32m'natural-language-processing'\u001b[0m, \u001b[32m'natural-language-processing'\u001b[0m,\n",
       "       \u001b[32m'natural-language-processing'\u001b[0m, \u001b[32m'natural-language-processing'\u001b[0m,\n",
       "       \u001b[32m'reinforcement-learning'\u001b[0m, \u001b[32m'natural-language-processing'\u001b[0m,\n",
       "       \u001b[32m'natural-language-processing'\u001b[0m, \u001b[32m'computer-vision'\u001b[0m, \u001b[32m'mlops'\u001b[0m,\n",
       "       \u001b[32m'natural-language-processing'\u001b[0m, \u001b[32m'mlops'\u001b[0m, \u001b[32m'computer-vision'\u001b[0m, \u001b[32m'mlops'\u001b[0m,\n",
       "       \u001b[32m'time-series'\u001b[0m, \u001b[32m'graph-learning'\u001b[0m, \u001b[32m'natural-language-processing'\u001b[0m,\n",
       "       \u001b[32m'graph-learning'\u001b[0m, \u001b[32m'computer-vision'\u001b[0m, \u001b[32m'time-series'\u001b[0m,\n",
       "       \u001b[32m'computer-vision'\u001b[0m, \u001b[32m'computer-vision'\u001b[0m,\n",
       "       \u001b[32m'natural-language-processing'\u001b[0m, \u001b[32m'computer-vision'\u001b[0m,\n",
       "       \u001b[32m'computer-vision'\u001b[0m, \u001b[32m'natural-language-processing'\u001b[0m, \u001b[32m'time-series'\u001b[0m,\n",
       "       \u001b[32m'computer-vision'\u001b[0m, \u001b[32m'computer-vision'\u001b[0m, \u001b[32m'computer-vision'\u001b[0m,\n",
       "       \u001b[32m'computer-vision'\u001b[0m, \u001b[32m'natural-language-processing'\u001b[0m, \u001b[32m'graph-learning'\u001b[0m,\n",
       "       \u001b[32m'computer-vision'\u001b[0m, \u001b[32m'computer-vision'\u001b[0m, \u001b[32m'computer-vision'\u001b[0m,\n",
       "       \u001b[32m'natural-language-processing'\u001b[0m, \u001b[32m'computer-vision'\u001b[0m, \u001b[32m'mlops'\u001b[0m,\n",
       "       \u001b[32m'reinforcement-learning'\u001b[0m, \u001b[32m'graph-learning'\u001b[0m, \u001b[32m'time-series'\u001b[0m, \u001b[32m'mlops'\u001b[0m,\n",
       "       \u001b[32m'computer-vision'\u001b[0m, \u001b[32m'computer-vision'\u001b[0m, \u001b[32m'mlops'\u001b[0m, \u001b[32m'computer-vision'\u001b[0m,\n",
       "       \u001b[32m'computer-vision'\u001b[0m, \u001b[32m'natural-language-processing'\u001b[0m, \u001b[32m'mlops'\u001b[0m, \u001b[32m'mlops'\u001b[0m,\n",
       "       \u001b[32m'reinforcement-learning'\u001b[0m, \u001b[32m'computer-vision'\u001b[0m, \u001b[32m'mlops'\u001b[0m,\n",
       "       \u001b[32m'time-series'\u001b[0m, \u001b[32m'reinforcement-learning'\u001b[0m, \u001b[32m'computer-vision'\u001b[0m,\n",
       "       \u001b[32m'natural-language-processing'\u001b[0m, \u001b[32m'computer-vision'\u001b[0m,\n",
       "       \u001b[32m'natural-language-processing'\u001b[0m, \u001b[32m'natural-language-processing'\u001b[0m,\n",
       "       \u001b[32m'natural-language-processing'\u001b[0m, \u001b[32m'computer-vision'\u001b[0m,\n",
       "       \u001b[32m'reinforcement-learning'\u001b[0m, \u001b[32m'computer-vision'\u001b[0m\u001b[1m]\u001b[0m, \u001b[33mdtype\u001b[0m=\u001b[32m'<U27'\u001b[0m\u001b[1m)\u001b[0m"
      ]
     },
     "execution_count": 10,
     "metadata": {},
     "output_type": "execute_result"
    }
   ],
   "source": [
    "pipe.predict(X_train)"
   ]
  }
 ],
 "metadata": {
  "kernelspec": {
   "display_name": "venv",
   "language": "python",
   "name": "python3"
  },
  "language_info": {
   "codemirror_mode": {
    "name": "ipython",
    "version": 3
   },
   "file_extension": ".py",
   "mimetype": "text/x-python",
   "name": "python",
   "nbconvert_exporter": "python",
   "pygments_lexer": "ipython3",
   "version": "3.10.11"
  },
  "orig_nbformat": 4
 },
 "nbformat": 4,
 "nbformat_minor": 2
}
